{
  "nbformat": 4,
  "nbformat_minor": 0,
  "metadata": {
    "colab": {
      "provenance": []
    },
    "kernelspec": {
      "name": "python3",
      "display_name": "Python 3"
    },
    "language_info": {
      "name": "python"
    }
  },
  "cells": [
    {
      "cell_type": "code",
      "source": [
        "import os\n",
        "\n",
        "print(\"Mempersiapkan lingkungan dan membuat folder...\")\n",
        "\n",
        "os.makedirs('/content/minecraft/worlds', exist_ok=True)\n",
        "os.makedirs('/content/minecraft/behavior_packs', exist_ok=True)\n",
        "\n",
        "os.chdir('/content/minecraft')\n",
        "\n",
        "print(f\"Folder kerja berhasil dibuat dan sekarang berada di: {os.getcwd()}\")"
      ],
      "metadata": {
        "colab": {
          "base_uri": "https://localhost:8080/"
        },
        "id": "fOkL9mrZYUEG",
        "outputId": "35ea06d1-5e1e-4ff1-b56b-1469e5c19177"
      },
      "execution_count": 1,
      "outputs": [
        {
          "output_type": "stream",
          "name": "stdout",
          "text": [
            "Mempersiapkan lingkungan dan membuat folder...\n",
            "Folder kerja berhasil dibuat dan sekarang berada di: /content/minecraft\n"
          ]
        }
      ]
    },
    {
      "cell_type": "code",
      "source": [
        "print(\"Memulai proses pengunduhan...\")\n",
        "\n",
        "!pip install gdown --quiet\n",
        "\n",
        "print(\"\\n[1/3] Mengunduh world '10Brothers.mcworld'...\")\n",
        "!gdown --id 1ppbwMleDUGJViJ1GdsYmxd29uvMgWx6U -O 10Brothers.mcworld\n",
        "\n",
        "print(\"\\n[2/3] Mengunduh mod 'Actions and Stuff 1.2 BY RAFLYMC.mcpack'...\")\n",
        "!gdown --id 1rlJ3g9T6oTB8BvP9wUWn-vprECIuCNuD -O \"Actions and Stuff 1.2 BY RAFLYMC.mcpack\"\n",
        "\n",
        "print(\"\\n[3/3] Mengunduh file server resmi 'bedrock-server-1.21.93.1.zip'...\")\n",
        "!wget -q -O bedrock-server.zip --show-progress \"https://www.minecraft.net/bedrockdedicatedserver/bin-linux/bedrock-server-1.21.93.1.zip\"\n",
        "\n",
        "print(\"\\nSemua file berhasil diunduh.\")"
      ],
      "metadata": {
        "colab": {
          "base_uri": "https://localhost:8080/"
        },
        "id": "S2KFFlNjYXrI",
        "outputId": "1c14b833-1737-4525-d34f-6e4df01f15b1"
      },
      "execution_count": 2,
      "outputs": [
        {
          "output_type": "stream",
          "name": "stdout",
          "text": [
            "Memulai proses pengunduhan...\n",
            "\n",
            "[1/3] Mengunduh world '10Brothers.mcworld'...\n",
            "/usr/local/lib/python3.11/dist-packages/gdown/__main__.py:140: FutureWarning: Option `--id` was deprecated in version 4.3.1 and will be removed in 5.0. You don't need to pass it anymore to use a file ID.\n",
            "  warnings.warn(\n",
            "Downloading...\n",
            "From (original): https://drive.google.com/uc?id=1ppbwMleDUGJViJ1GdsYmxd29uvMgWx6U\n",
            "From (redirected): https://drive.google.com/uc?id=1ppbwMleDUGJViJ1GdsYmxd29uvMgWx6U&confirm=t&uuid=b3c24b2b-2bc0-43d0-a0e7-9cd50c025701\n",
            "To: /content/minecraft/10Brothers.mcworld\n",
            "100% 36.5M/36.5M [00:00<00:00, 136MB/s]\n",
            "\n",
            "[2/3] Mengunduh mod 'Actions and Stuff 1.2 BY RAFLYMC.mcpack'...\n",
            "/usr/local/lib/python3.11/dist-packages/gdown/__main__.py:140: FutureWarning: Option `--id` was deprecated in version 4.3.1 and will be removed in 5.0. You don't need to pass it anymore to use a file ID.\n",
            "  warnings.warn(\n",
            "Downloading...\n",
            "From (original): https://drive.google.com/uc?id=1rlJ3g9T6oTB8BvP9wUWn-vprECIuCNuD\n",
            "From (redirected): https://drive.google.com/uc?id=1rlJ3g9T6oTB8BvP9wUWn-vprECIuCNuD&confirm=t&uuid=7f695c35-9917-4529-873a-0aa52f3dc97a\n",
            "To: /content/minecraft/Actions and Stuff 1.2 BY RAFLYMC.mcpack\n",
            "100% 32.3M/32.3M [00:00<00:00, 83.4MB/s]\n",
            "\n",
            "[3/3] Mengunduh file server resmi 'bedrock-server-1.21.93.1.zip'...\n",
            "bedrock-server.zip  100%[===================>]  65.29M   257MB/s    in 0.3s    \n",
            "\n",
            "Semua file berhasil diunduh.\n"
          ]
        }
      ]
    },
    {
      "cell_type": "code",
      "source": [
        "import os\n",
        "import zipfile\n",
        "\n",
        "print(\"Mengekstrak file server...\")\n",
        "!unzip -q bedrock-server.zip\n",
        "\n",
        "mod_filename = \"Actions and Stuff 1.2 BY RAFLYMC.mcpack\"\n",
        "world_name = \"10Brothers\"\n",
        "world_folder_path = f'./worlds/{world_name}'\n",
        "\n",
        "print(f\"Mengekstrak file world '{world_name}.mcworld'...\")\n",
        "os.makedirs(world_folder_path, exist_ok=True)\n",
        "!unzip -q 10Brothers.mcworld -d {world_folder_path}\n",
        "\n",
        "print(\"Mengekstrak file mod ke folder behavior_packs...\")\n",
        "!unzip -q -o \"{mod_filename}\" -d ./behavior_packs/\n",
        "\n",
        "print(\"Membersihkan file arsip yang sudah tidak digunakan...\")\n",
        "os.remove(\"bedrock-server.zip\")\n",
        "os.remove(\"10Brothers.mcworld\")\n",
        "os.remove(mod_filename)\n",
        "\n",
        "print(\"\\nProses ekstraksi dan penempatan file selesai.\")\n",
        "print(f\"World diekstrak ke: {world_folder_path}\")"
      ],
      "metadata": {
        "colab": {
          "base_uri": "https://localhost:8080/"
        },
        "id": "Sd2522R2YhG9",
        "outputId": "d20e8a95-3288-420b-9246-3b5c86448607"
      },
      "execution_count": 3,
      "outputs": [
        {
          "output_type": "stream",
          "name": "stdout",
          "text": [
            "Mengekstrak file server...\n",
            "Mengekstrak file world '10Brothers.mcworld'...\n",
            "Mengekstrak file mod ke folder behavior_packs...\n",
            "Membersihkan file arsip yang sudah tidak digunakan...\n",
            "\n",
            "Proses ekstraksi dan penempatan file selesai.\n",
            "World diekstrak ke: ./worlds/10Brothers\n"
          ]
        }
      ]
    },
    {
      "cell_type": "code",
      "source": [
        "import os\n",
        "import json\n",
        "\n",
        "print(\"Membuat konfigurasi untuk mengaktifkan behavior pack...\")\n",
        "\n",
        "behavior_pack_folder = '/content/minecraft/behavior_packs'\n",
        "world_folder = '/content/minecraft/worlds/10Brothers'\n",
        "world_behavior_packs_file = os.path.join(world_folder, 'world_behavior_packs.json')\n",
        "manifest_path = None\n",
        "\n",
        "for root, dirs, files in os.walk(behavior_pack_folder):\n",
        "    if 'manifest.json' in files:\n",
        "        manifest_path = os.path.join(root, 'manifest.json')\n",
        "        break\n",
        "\n",
        "if manifest_path:\n",
        "    try:\n",
        "        with open(manifest_path, 'r') as f:\n",
        "            manifest_data = json.load(f)\n",
        "\n",
        "        pack_id = manifest_data['header']['uuid']\n",
        "        version = manifest_data['header']['version']\n",
        "\n",
        "        pack_config = [\n",
        "            {\n",
        "                \"pack_id\": pack_id,\n",
        "                \"version\": version\n",
        "            }\n",
        "        ]\n",
        "\n",
        "        with open(world_behavior_packs_file, 'w') as f:\n",
        "            json.dump(pack_config, f, indent=4)\n",
        "\n",
        "        print(f\"✅ Berhasil! File '{world_behavior_packs_file}' telah dibuat.\")\n",
        "        print(f\"   Mod dengan ID: {pack_id} akan diaktifkan untuk world '10Brothers'.\")\n",
        "\n",
        "    except Exception as e:\n",
        "        print(f\"❌ Gagal memproses manifest.json: {e}\")\n",
        "else:\n",
        "    print(\"❌ Peringatan: Tidak dapat menemukan file 'manifest.json' di dalam folder 'behavior_packs'.\")\n",
        "    print(\"   Mod mungkin tidak akan aktif.\")"
      ],
      "metadata": {
        "colab": {
          "base_uri": "https://localhost:8080/"
        },
        "id": "GKhWqwj3ZO_N",
        "outputId": "96e68f66-f2c0-45da-bb28-68fecd72a068"
      },
      "execution_count": 4,
      "outputs": [
        {
          "output_type": "stream",
          "name": "stdout",
          "text": [
            "Membuat konfigurasi untuk mengaktifkan behavior pack...\n",
            "✅ Berhasil! File '/content/minecraft/worlds/10Brothers/world_behavior_packs.json' telah dibuat.\n",
            "   Mod dengan ID: 2cf066eb-1254-4b7d-affb-80fe3216b18c akan diaktifkan untuk world '10Brothers'.\n"
          ]
        }
      ]
    },
    {
      "cell_type": "code",
      "source": [
        "server_properties_content = f\"\"\"\n",
        "server-name=10Brothers\n",
        "gamemode=survival\n",
        "force-gamemode=false\n",
        "difficulty=normal\n",
        "allow-cheats=true\n",
        "max-players=10\n",
        "online-mode=true\n",
        "allow-list=false\n",
        "server-port=19133\n",
        "server-portv6=19133\n",
        "enable-lan-visibility=true\n",
        "view-distance=32\n",
        "tick-distance=4\n",
        "player-idle-timeout=30\n",
        "max-threads=8\n",
        "level-name=10Brothers\n",
        "level-seed=\n",
        "default-player-permission-level=member\n",
        "texturepack-required=false\n",
        "content-log-file-enabled=false\n",
        "compression-threshold=1\n",
        "compression-algorithm=zlib\n",
        "server-authoritative-movement-strict=false\n",
        "server-authoritative-dismount-strict=false\n",
        "server-authoritative-entity-interactions-strict=false\n",
        "player-position-acceptance-threshold=0.5\n",
        "player-movement-action-direction-threshold=0.85\n",
        "server-authoritative-block-breaking-pick-range-scalar=1.5\n",
        "chat-restriction=None\n",
        "disable-player-interaction=false\n",
        "client-side-chunk-generation-enabled=true\n",
        "block-network-ids-are-hashes=true\n",
        "disable-persona=false\n",
        "disable-custom-skins=false\n",
        "server-build-radius-ratio=Disabled\n",
        "allow-outbound-script-debugging=false\n",
        "allow-inbound-script-debugging=false\n",
        "script-debugger-auto-attach=disabled\n",
        "\"\"\"\n",
        "\n",
        "with open(\"server.properties\", \"w\") as f:\n",
        "    f.write(server_properties_content)\n",
        "\n",
        "print(\"File server.properties berhasil dibuat dan dikonfigurasi.\")\n",
        "print(\"\\n--- PEMBERITAHUAN PENTING ---\")\n",
        "print(\"1. ✅ Nama Dunia diatur ke '10Brothers' untuk memuat world yang diimpor.\")\n",
        "print(\"2. 'allow-cheats' diatur ke 'true' agar command /backup dan command admin lainnya bisa berfungsi.\")\n",
        "print(\"3. 'level-seed' dikosongkan karena server akan memuat dunia yang sudah ada.\")"
      ],
      "metadata": {
        "colab": {
          "base_uri": "https://localhost:8080/"
        },
        "id": "uJJkv5hRYlHd",
        "outputId": "5f349167-e2d2-4f58-f1f9-c2c208841abf"
      },
      "execution_count": 5,
      "outputs": [
        {
          "output_type": "stream",
          "name": "stdout",
          "text": [
            "File server.properties berhasil dibuat dan dikonfigurasi.\n",
            "\n",
            "--- PEMBERITAHUAN PENTING ---\n",
            "1. ✅ Nama Dunia diatur ke '10Brothers' untuk memuat world yang diimpor.\n",
            "2. 'allow-cheats' diatur ke 'true' agar command /backup dan command admin lainnya bisa berfungsi.\n",
            "3. 'level-seed' dikosongkan karena server akan memuat dunia yang sudah ada.\n"
          ]
        }
      ]
    },
    {
      "cell_type": "code",
      "source": [
        "import os\n",
        "import urllib.request\n",
        "\n",
        "os.chdir('/content/minecraft')\n",
        "\n",
        "print(\"Mengunduh agen Playit.gg...\")\n",
        "playit_url = \"https://github.com/playit-cloud/playit-agent/releases/download/v0.15.26/playit-linux-amd64\"\n",
        "playit_path = \"playit\"\n",
        "if not os.path.exists(playit_path):\n",
        "    urllib.request.urlretrieve(playit_url, playit_path)\n",
        "    os.chmod(playit_path, 0o755)\n",
        "\n",
        "print(\"\\n========================= TINDAKAN PENTING =========================\")\n",
        "print(\"Sel ini akan menjalankan Playit dan mungkin akan menampilkan URL.\")\n",
        "print(\"\\nCARI BARIS YANG TERLIHAT SEPERTI INI:\")\n",
        "print(\"   'https://playit.gg/claim/...'\")\n",
        "print(\"\\nJIKA ANDA MELIHAT URL DI ATAS:\")\n",
        "print(\"   1. Salin URL itu, buka di browser, dan selesaikan otorisasi.\")\n",
        "print(\"   2. Setelah selesai, KEMBALI ke sini dan HENTIKAN (tombol ■) eksekusi sel ini.\")\n",
        "print(\"   3. Lanjutkan ke 'Cell 6'.\")\n",
        "print(\"\\nJIKA ANDA TIDAK MELIHAT URL KLAIM dan langsung melihat info tunnel:\")\n",
        "print(\"   - Itu berarti Anda sudah terotorisasi.\")\n",
        "print(\"   - Cukup HENTIKAN (tombol ■) sel ini dan langsung lanjutkan ke 'Cell 6'.\")\n",
        "print(\"====================================================================\\n\")\n",
        "\n",
        "!./playit"
      ],
      "metadata": {
        "colab": {
          "base_uri": "https://localhost:8080/"
        },
        "id": "MWZuno-l1-4G",
        "outputId": "a39b77ee-37eb-4a30-872e-e201a994b375"
      },
      "execution_count": 6,
      "outputs": [
        {
          "output_type": "stream",
          "name": "stdout",
          "text": [
            "Mengunduh agen Playit.gg...\n",
            "\n",
            "========================= TINDAKAN PENTING =========================\n",
            "Sel ini akan menjalankan Playit dan mungkin akan menampilkan URL.\n",
            "\n",
            "CARI BARIS YANG TERLIHAT SEPERTI INI:\n",
            "   'https://playit.gg/claim/...'\n",
            "\n",
            "JIKA ANDA MELIHAT URL DI ATAS:\n",
            "   1. Salin URL itu, buka di browser, dan selesaikan otorisasi.\n",
            "   2. Setelah selesai, KEMBALI ke sini dan HENTIKAN (tombol ■) eksekusi sel ini.\n",
            "   3. Lanjutkan ke 'Cell 6'.\n",
            "\n",
            "JIKA ANDA TIDAK MELIHAT URL KLAIM dan langsung melihat info tunnel:\n",
            "   - Itu berarti Anda sudah terotorisasi.\n",
            "   - Cukup HENTIKAN (tombol ■) sel ini dan langsung lanjutkan ke 'Cell 6'.\n",
            "====================================================================\n",
            "\n",
            "\u001b8\u001b[0mno command provided, doing auto run\u001b[2J\u001b8\u001b[0mVisit link to setup https://playit.gg/claim/028f7a2747\u001b[2J\u001b8\u001b[0mVisit link to setup https://playit.gg/claim/028f7a2747\u001b[2J\u001b8\u001b[0mVisit link to setup https://playit.gg/claim/028f7a2747\u001b[2J\u001b8\u001b[0mApprove program at https://playit.gg/claim/028f7a2747\u001b[2J\u001b8\u001b[0mProgram approved :). Secret code being setup.\u001b[2J\u001b8\u001b[0mstarting up tunnel connection\u001b[2J\u001b8\u001b[0mtunnel running\u001b[2J\u001b8\u001b[0mplayit (v0.15.26): 1751969632910 tunnel running, 0 tunnels registered\n",
            "\n",
            "\n",
            "TUNNELS\n",
            "Add tunnels here: https://playit.gg/account/agents/cf70c941-22b9-4a5c-9012-76b0b245e75a\n",
            "\u001b[2J\u001b8\u001b[0mplayit (v0.15.26): 1751969635999 tunnel running, 0 tunnels registered\n",
            "\n",
            "\n",
            "TUNNELS\n",
            "Add tunnels here: https://playit.gg/account/agents/cf70c941-22b9-4a5c-9012-76b0b245e75a\n",
            "\u001b[2J\u001b8\u001b[0mplayit (v0.15.26): 1751969639089 tunnel running, 0 tunnels registered\n",
            "\n",
            "\n",
            "TUNNELS\n",
            "Add tunnels here: https://playit.gg/account/agents/cf70c941-22b9-4a5c-9012-76b0b245e75a\n",
            "\u001b[2J\u001b8\u001b[0mplayit (v0.15.26): 1751969642176 tunnel running, 0 tunnels registered\n",
            "\n",
            "\n",
            "TUNNELS\n",
            "Add tunnels here: https://playit.gg/account/agents/cf70c941-22b9-4a5c-9012-76b0b245e75a\n",
            "\u001b[2J\u001b8\u001b[0mplayit (v0.15.26): 1751969645262 tunnel running, 0 tunnels registered\n",
            "\n",
            "\n",
            "TUNNELS\n",
            "Add tunnels here: https://playit.gg/account/agents/cf70c941-22b9-4a5c-9012-76b0b245e75a\n",
            "\u001b[2J\u001b8\u001b[0mplayit (v0.15.26): 1751969648346 tunnel running, 0 tunnels registered\n",
            "\n",
            "\n",
            "TUNNELS\n",
            "tunnel pending: https://playit.gg/account/tunnels/5aba0bf5-4a1b-484e-a8c8-58f5cd963e15\n",
            "\u001b[2J\u001b8\u001b[0mplayit (v0.15.26): 1751969651436 tunnel running, 1 tunnels registered\n",
            "\n",
            "\n",
            "TUNNELS\n",
            "co-exec.gl.at.ply.gg:44260 => 127.0.0.1:19132 (minecraft-bedrock)\n",
            "\u001b[2J\u001b8\u001b[0mplayit (v0.15.26): 1751969654526 tunnel running, 1 tunnels registered\n",
            "\n",
            "\n",
            "TUNNELS\n",
            "co-exec.gl.at.ply.gg:44260 => 127.0.0.1:19132 (minecraft-bedrock)\n",
            "\u001b[2J\u001b8\u001b[0mplayit (v0.15.26): 1751969657616 tunnel running, 1 tunnels registered\n",
            "\n",
            "\n",
            "TUNNELS\n",
            "co-exec.gl.at.ply.gg:44260 => 127.0.0.1:19132 (minecraft-bedrock)\n",
            "\u001b[2J\u001b8\u001b[0mplayit (v0.15.26): 1751969660701 tunnel running, 1 tunnels registered\n",
            "\n",
            "\n",
            "TUNNELS\n",
            "co-exec.gl.at.ply.gg:44260 => 127.0.0.1:44260 (minecraft-bedrock)\n",
            "\u001b[2J\u001b8\u001b[0mplayit (v0.15.26): 1751969663796 tunnel running, 1 tunnels registered\n",
            "\n",
            "\n",
            "TUNNELS\n",
            "co-exec.gl.at.ply.gg:44260 => 127.0.0.1:44260 (minecraft-bedrock)\n"
          ]
        }
      ]
    },
    {
      "cell_type": "code",
      "source": [
        "import re\n",
        "import os\n",
        "\n",
        "GUNAKAN_INPUT_MANUAL = False\n",
        "\n",
        "print(\"Mencari alamat server dari Playit.gg...\")\n",
        "os.chdir('/content/minecraft')\n",
        "\n",
        "server_address = None\n",
        "\n",
        "def get_manual_address():\n",
        "    print(\"\\n--- INPUT MANUAL ALAMAT SERVER ---\")\n",
        "    print(\"Masukkan alamat dan port yang Anda dapatkan dari Playit.gg.\")\n",
        "    manual_address = input(\"Masukkan Alamat Server (contoh: random-name.ply.gg): \")\n",
        "    manual_port = input(\"Masukkan Port Server (contoh: 12345): \")\n",
        "\n",
        "    if manual_address and manual_port:\n",
        "        return f\"{manual_address.strip()}:{manual_port.strip()}\"\n",
        "    else:\n",
        "        return None\n",
        "\n",
        "if GUNAKAN_INPUT_MANUAL:\n",
        "    print(\"[INFO] Mode input manual diaktifkan.\")\n",
        "    server_address = get_manual_address()\n",
        "else:\n",
        "    print(\"[INFO] Mencoba deteksi otomatis dari file 'playit.log'...\")\n",
        "    try:\n",
        "        with open(\"playit.log\", \"r\") as f:\n",
        "            log_content = f.read()\n",
        "            match = re.search(r\"(\\S+\\.ply\\.gg:\\d+)\\s+=>\", log_content)\n",
        "            if match:\n",
        "                server_address = match.group(1)\n",
        "                print(\"[OK] Alamat server berhasil ditemukan secara otomatis.\")\n",
        "            else:\n",
        "                print(\"\\n[PERINGATAN] Gagal menemukan alamat server dari log secara otomatis.\")\n",
        "                server_address = get_manual_address()\n",
        "\n",
        "    except FileNotFoundError:\n",
        "        print(\"\\n[ERROR] File 'playit.log' tidak ditemukan!\")\n",
        "        print(\"Harap jalankan 'Cell 5' terlebih dahulu dan HENTIKAN sel tersebut setelah mendapatkan informasi tunnel.\")\n",
        "        server_address = get_manual_address()\n",
        "\n",
        "if server_address:\n",
        "    print(\"\\n\" + \"=\"*55)\n",
        "    print(\"          ALAMAT SERVER ANDA (UNTUK DI-SHARE)\")\n",
        "    print(f\"                   {server_address}\")\n",
        "    print(\"=\"*55 + \"\\n\")\n",
        "    print(\"✅ Catat atau salin alamat di atas. Gunakan alamat ini untuk masuk ke server.\")\n",
        "else:\n",
        "    print(\"\\n[GAGAL] Tidak ada alamat server yang bisa ditampilkan.\")\n",
        "    print(\"Pastikan Anda menjalankan Cell 5, atau isi alamat secara manual saat diminta.\")\n",
        "\n",
        "\n",
        "print(\"\\n--- PENJELASAN PENTING (Mengenai Port Server) ---\")\n",
        "print(\"Anda meminta untuk mengubah port di 'server.properties', namun ini TIDAK DIPERLUKAN.\")\n",
        "print(\"Playit.gg bekerja sebagai 'terowongan' (tunnel):\")\n",
        "LOCAL_PORT = 19132\n",
        "print(f\"  - Pemain terhubung ke alamat publik: {server_address if server_address else 'Alamat.Playit:PortPublik'}\")\n",
        "print(f\"  - Playit.gg kemudian meneruskan koneksi itu ke server Anda di port lokal ({LOCAL_PORT}).\")\n",
        "print(f\"  - Server Minecraft Anda (bedrock_server) hanya perlu berjalan di port lokalnya ({LOCAL_PORT}).\")\n",
        "print(\"\\nKesimpulan: Konfigurasi 'server.properties' sudah benar dan tidak perlu diubah.\")"
      ],
      "metadata": {
        "colab": {
          "base_uri": "https://localhost:8080/"
        },
        "id": "VXX_dfmL3C_R",
        "outputId": "0aec701e-5bdb-49d8-cf5b-17226870dab6"
      },
      "execution_count": 7,
      "outputs": [
        {
          "output_type": "stream",
          "name": "stdout",
          "text": [
            "Mencari alamat server dari Playit.gg...\n",
            "[INFO] Mencoba deteksi otomatis dari file 'playit.log'...\n",
            "\n",
            "[ERROR] File 'playit.log' tidak ditemukan!\n",
            "Harap jalankan 'Cell 5' terlebih dahulu dan HENTIKAN sel tersebut setelah mendapatkan informasi tunnel.\n",
            "\n",
            "--- INPUT MANUAL ALAMAT SERVER ---\n",
            "Masukkan alamat dan port yang Anda dapatkan dari Playit.gg.\n",
            "Masukkan Alamat Server (contoh: random-name.ply.gg): co-exec.gl.at.ply.gg\n",
            "Masukkan Port Server (contoh: 12345): 44260\n",
            "\n",
            "=======================================================\n",
            "          ALAMAT SERVER ANDA (UNTUK DI-SHARE)\n",
            "                   co-exec.gl.at.ply.gg:44260\n",
            "=======================================================\n",
            "\n",
            "✅ Catat atau salin alamat di atas. Gunakan alamat ini untuk masuk ke server.\n",
            "\n",
            "--- PENJELASAN PENTING (Mengenai Port Server) ---\n",
            "Anda meminta untuk mengubah port di 'server.properties', namun ini TIDAK DIPERLUKAN.\n",
            "Playit.gg bekerja sebagai 'terowongan' (tunnel):\n",
            "  - Pemain terhubung ke alamat publik: co-exec.gl.at.ply.gg:44260\n",
            "  - Playit.gg kemudian meneruskan koneksi itu ke server Anda di port lokal (19132).\n",
            "  - Server Minecraft Anda (bedrock_server) hanya perlu berjalan di port lokalnya (19132).\n",
            "\n",
            "Kesimpulan: Konfigurasi 'server.properties' sudah benar dan tidak perlu diubah.\n"
          ]
        }
      ]
    },
    {
      "cell_type": "code",
      "source": [
        "import os\n",
        "\n",
        "print(\"Memberikan izin eksekusi pada file server dan playit...\")\n",
        "!chmod +x bedrock_server playit\n",
        "\n",
        "if os.path.exists(\"server.log\"):\n",
        "    os.remove(\"server.log\")\n",
        "\n",
        "print(\"\\n=================== MEMULAI SERVER & TUNNEL ===================\")\n",
        "print(\"Log dari Bedrock Server dan Playit.gg akan ditampilkan di bawah ini.\")\n",
        "print(\"Biarkan sel ini tetap berjalan agar server dan koneksi tetap aktif.\")\n",
        "print(\"Untuk menghentikan server, HENTIKAN (■) sel ini.\")\n",
        "print(\"===============================================================\\n\")\n",
        "\n",
        "get_ipython().system_raw('LD_LIBRARY_PATH=. ./bedrock_server > server.log 2>&1 & sleep 5 && tail -f server.log & ./playit')"
      ],
      "metadata": {
        "colab": {
          "base_uri": "https://localhost:8080/"
        },
        "id": "rpvZ_MozM7ek",
        "outputId": "3f14f3ad-d372-4da9-8ca0-51f398819f8e"
      },
      "execution_count": 9,
      "outputs": [
        {
          "output_type": "stream",
          "name": "stdout",
          "text": [
            "Memberikan izin eksekusi pada file server dan playit...\n",
            "\n",
            "=================== MEMULAI SERVER & TUNNEL ===================\n",
            "Log dari Bedrock Server dan Playit.gg akan ditampilkan di bawah ini.\n",
            "Biarkan sel ini tetap berjalan agar server dan koneksi tetap aktif.\n",
            "Untuk menghentikan server, HENTIKAN (■) sel ini.\n",
            "===============================================================\n",
            "\n"
          ]
        },
        {
          "output_type": "stream",
          "name": "stderr",
          "text": [
            "\n",
            "KeyboardInterrupt\n",
            "\n"
          ]
        }
      ]
    }
  ]
}